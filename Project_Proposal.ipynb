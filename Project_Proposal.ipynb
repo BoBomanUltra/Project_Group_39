{
 "cells": [
  {
   "cell_type": "markdown",
   "id": "b3a3e45f-1c32-4e93-a5d3-a9921db2d74a",
   "metadata": {},
   "source": [
    "# Group 39 Project Proposal"
   ]
  },
  {
   "cell_type": "markdown",
   "id": "781ab47a-8c65-4e51-b52e-1a2e87392bc3",
   "metadata": {},
   "source": [
    "## *Tennis Win Prediction*"
   ]
  },
  {
   "cell_type": "markdown",
   "id": "7094c5a2-b022-4fc2-a4fb-ac118e6abe79",
   "metadata": {},
   "source": [
    "**Introduction:** The Association of Tennis Professionals (ATP) is the sport governing body of tennis for men’s professional tennis competitions in the world. Statistics of all matches in the ATP competitions are recorded annually including the match location, match draw size, player’s statistics etc. \n",
    "\n",
    "<img src=\"download.png\" width = \"200\"/>\n",
    "\n",
    "Our target dataset of interest is the list of ATP tennis matches from the year 2022 in the world. Since many factors - age, height, or seed (a player’s ranking based on past performances) can determine the prospect of a player’s match win or loss, our analysis aims to study a specific player’s statistics to predict the win-loss probability of that player against other players. Our chosen study target is Felix Auger Aliassime, a current tennis player who has played the most matches in 2022. We will be examining the effect of his opponents’ age, height or seed to Felix’s win rate. Therefore, through this project, we will be answering the question: \n",
    "\n",
    "*Within the year 2022, how likely is Felix Auger Aliassime to win against another tennis player in the world based on that opponent’s age, height, and seed?*"
   ]
  },
  {
   "cell_type": "markdown",
   "id": "a9c5eeba-0bb2-4fdb-aaab-60ffd0e69112",
   "metadata": {},
   "source": [
    "### Preliminary Data Analaysis:"
   ]
  },
  {
   "cell_type": "markdown",
   "id": "b764a38e-f3ae-4bcd-a2f1-1c456b1c90b7",
   "metadata": {},
   "source": [
    "##### Installing Necessary Packages:"
   ]
  },
  {
   "cell_type": "code",
   "execution_count": 1,
   "id": "2d9aa1c8-b97b-4dce-8ce0-f636ab37c6c1",
   "metadata": {},
   "outputs": [
    {
     "name": "stderr",
     "output_type": "stream",
     "text": [
      "── \u001b[1mAttaching core tidyverse packages\u001b[22m ──────────────────────── tidyverse 2.0.0 ──\n",
      "\u001b[32m✔\u001b[39m \u001b[34mdplyr    \u001b[39m 1.1.3     \u001b[32m✔\u001b[39m \u001b[34mreadr    \u001b[39m 2.1.4\n",
      "\u001b[32m✔\u001b[39m \u001b[34mforcats  \u001b[39m 1.0.0     \u001b[32m✔\u001b[39m \u001b[34mstringr  \u001b[39m 1.5.0\n",
      "\u001b[32m✔\u001b[39m \u001b[34mggplot2  \u001b[39m 3.4.4     \u001b[32m✔\u001b[39m \u001b[34mtibble   \u001b[39m 3.2.1\n",
      "\u001b[32m✔\u001b[39m \u001b[34mlubridate\u001b[39m 1.9.3     \u001b[32m✔\u001b[39m \u001b[34mtidyr    \u001b[39m 1.3.0\n",
      "\u001b[32m✔\u001b[39m \u001b[34mpurrr    \u001b[39m 1.0.2     \n",
      "── \u001b[1mConflicts\u001b[22m ────────────────────────────────────────── tidyverse_conflicts() ──\n",
      "\u001b[31m✖\u001b[39m \u001b[34mdplyr\u001b[39m::\u001b[32mfilter()\u001b[39m masks \u001b[34mstats\u001b[39m::filter()\n",
      "\u001b[31m✖\u001b[39m \u001b[34mdplyr\u001b[39m::\u001b[32mlag()\u001b[39m    masks \u001b[34mstats\u001b[39m::lag()\n",
      "\u001b[36mℹ\u001b[39m Use the conflicted package (\u001b[3m\u001b[34m<http://conflicted.r-lib.org/>\u001b[39m\u001b[23m) to force all conflicts to become errors\n",
      "── \u001b[1mAttaching packages\u001b[22m ────────────────────────────────────── tidymodels 1.1.1 ──\n",
      "\n",
      "\u001b[32m✔\u001b[39m \u001b[34mbroom       \u001b[39m 1.0.5     \u001b[32m✔\u001b[39m \u001b[34mrsample     \u001b[39m 1.2.0\n",
      "\u001b[32m✔\u001b[39m \u001b[34mdials       \u001b[39m 1.2.0     \u001b[32m✔\u001b[39m \u001b[34mtune        \u001b[39m 1.1.2\n",
      "\u001b[32m✔\u001b[39m \u001b[34minfer       \u001b[39m 1.0.5     \u001b[32m✔\u001b[39m \u001b[34mworkflows   \u001b[39m 1.1.3\n",
      "\u001b[32m✔\u001b[39m \u001b[34mmodeldata   \u001b[39m 1.2.0     \u001b[32m✔\u001b[39m \u001b[34mworkflowsets\u001b[39m 1.0.1\n",
      "\u001b[32m✔\u001b[39m \u001b[34mparsnip     \u001b[39m 1.1.1     \u001b[32m✔\u001b[39m \u001b[34myardstick   \u001b[39m 1.2.0\n",
      "\u001b[32m✔\u001b[39m \u001b[34mrecipes     \u001b[39m 1.0.8     \n",
      "\n",
      "── \u001b[1mConflicts\u001b[22m ───────────────────────────────────────── tidymodels_conflicts() ──\n",
      "\u001b[31m✖\u001b[39m \u001b[34mscales\u001b[39m::\u001b[32mdiscard()\u001b[39m masks \u001b[34mpurrr\u001b[39m::discard()\n",
      "\u001b[31m✖\u001b[39m \u001b[34mdplyr\u001b[39m::\u001b[32mfilter()\u001b[39m   masks \u001b[34mstats\u001b[39m::filter()\n",
      "\u001b[31m✖\u001b[39m \u001b[34mrecipes\u001b[39m::\u001b[32mfixed()\u001b[39m  masks \u001b[34mstringr\u001b[39m::fixed()\n",
      "\u001b[31m✖\u001b[39m \u001b[34mdplyr\u001b[39m::\u001b[32mlag()\u001b[39m      masks \u001b[34mstats\u001b[39m::lag()\n",
      "\u001b[31m✖\u001b[39m \u001b[34myardstick\u001b[39m::\u001b[32mspec()\u001b[39m masks \u001b[34mreadr\u001b[39m::spec()\n",
      "\u001b[31m✖\u001b[39m \u001b[34mrecipes\u001b[39m::\u001b[32mstep()\u001b[39m   masks \u001b[34mstats\u001b[39m::step()\n",
      "\u001b[34m•\u001b[39m Dig deeper into tidy modeling with R at \u001b[32mhttps://www.tmwr.org\u001b[39m\n",
      "\n"
     ]
    }
   ],
   "source": [
    "library(tidyverse)\n",
    "library(repr)\n",
    "library(tidymodels)\n",
    "options(repr.matrix.max.rows = 6) #limits output of dataframes to 6 rows"
   ]
  },
  {
   "cell_type": "markdown",
   "id": "1c65588a-7367-4713-be1b-7406789f0557",
   "metadata": {},
   "source": [
    "##### Taking Data from the Web:"
   ]
  },
  {
   "cell_type": "code",
   "execution_count": 2,
   "id": "1da812c6-b73f-4a51-a8fd-8faa24b54d44",
   "metadata": {},
   "outputs": [
    {
     "name": "stderr",
     "output_type": "stream",
     "text": [
      "\u001b[1mRows: \u001b[22m\u001b[34m2917\u001b[39m \u001b[1mColumns: \u001b[22m\u001b[34m49\u001b[39m\n",
      "\u001b[36m──\u001b[39m \u001b[1mColumn specification\u001b[22m \u001b[36m────────────────────────────────────────────────────────\u001b[39m\n",
      "\u001b[1mDelimiter:\u001b[22m \",\"\n",
      "\u001b[31mchr\u001b[39m (14): tourney_id, tourney_name, surface, tourney_level, winner_entry, wi...\n",
      "\u001b[32mdbl\u001b[39m (35): draw_size, tourney_date, match_num, winner_id, winner_seed, winner...\n",
      "\n",
      "\u001b[36mℹ\u001b[39m Use `spec()` to retrieve the full column specification for this data.\n",
      "\u001b[36mℹ\u001b[39m Specify the column types or set `show_col_types = FALSE` to quiet this message.\n"
     ]
    },
    {
     "data": {
      "text/html": [
       "<table class=\"dataframe\">\n",
       "<caption>A spec_tbl_df: 2917 × 49</caption>\n",
       "<thead>\n",
       "\t<tr><th scope=col>tourney_id</th><th scope=col>tourney_name</th><th scope=col>surface</th><th scope=col>draw_size</th><th scope=col>tourney_level</th><th scope=col>tourney_date</th><th scope=col>match_num</th><th scope=col>winner_id</th><th scope=col>winner_seed</th><th scope=col>winner_entry</th><th scope=col>⋯</th><th scope=col>l_1stIn</th><th scope=col>l_1stWon</th><th scope=col>l_2ndWon</th><th scope=col>l_SvGms</th><th scope=col>l_bpSaved</th><th scope=col>l_bpFaced</th><th scope=col>winner_rank</th><th scope=col>winner_rank_points</th><th scope=col>loser_rank</th><th scope=col>loser_rank_points</th></tr>\n",
       "\t<tr><th scope=col>&lt;chr&gt;</th><th scope=col>&lt;chr&gt;</th><th scope=col>&lt;chr&gt;</th><th scope=col>&lt;dbl&gt;</th><th scope=col>&lt;chr&gt;</th><th scope=col>&lt;dbl&gt;</th><th scope=col>&lt;dbl&gt;</th><th scope=col>&lt;dbl&gt;</th><th scope=col>&lt;dbl&gt;</th><th scope=col>&lt;chr&gt;</th><th scope=col>⋯</th><th scope=col>&lt;dbl&gt;</th><th scope=col>&lt;dbl&gt;</th><th scope=col>&lt;dbl&gt;</th><th scope=col>&lt;dbl&gt;</th><th scope=col>&lt;dbl&gt;</th><th scope=col>&lt;dbl&gt;</th><th scope=col>&lt;dbl&gt;</th><th scope=col>&lt;dbl&gt;</th><th scope=col>&lt;dbl&gt;</th><th scope=col>&lt;dbl&gt;</th></tr>\n",
       "</thead>\n",
       "<tbody>\n",
       "\t<tr><td>2022-8888</td><td>Atp Cup</td><td>Hard</td><td>16</td><td>A</td><td>20220103</td><td>300</td><td>200000</td><td>NA</td><td>NA</td><td>⋯</td><td>50</td><td>32</td><td> 7</td><td>10</td><td>3</td><td>5</td><td>11</td><td>3308</td><td>19</td><td>2260</td></tr>\n",
       "\t<tr><td>2022-8888</td><td>Atp Cup</td><td>Hard</td><td>16</td><td>A</td><td>20220103</td><td>299</td><td>133430</td><td>NA</td><td>NA</td><td>⋯</td><td>33</td><td>21</td><td> 8</td><td> 9</td><td>3</td><td>6</td><td>14</td><td>2475</td><td>20</td><td>2230</td></tr>\n",
       "\t<tr><td>2022-8888</td><td>Atp Cup</td><td>Hard</td><td>16</td><td>A</td><td>20220103</td><td>298</td><td>105138</td><td>NA</td><td>NA</td><td>⋯</td><td>80</td><td>62</td><td>20</td><td>16</td><td>6</td><td>7</td><td>19</td><td>2260</td><td> 9</td><td>3706</td></tr>\n",
       "\t<tr><td>⋮</td><td>⋮</td><td>⋮</td><td>⋮</td><td>⋮</td><td>⋮</td><td>⋮</td><td>⋮</td><td>⋮</td><td>⋮</td><td>⋱</td><td>⋮</td><td>⋮</td><td>⋮</td><td>⋮</td><td>⋮</td><td>⋮</td><td>⋮</td><td>⋮</td><td>⋮</td><td>⋮</td></tr>\n",
       "\t<tr><td>2022-M-DC-2022-WG2-PO-HKG-BEN-01</td><td>Davis Cup WG2 PO: HKG vs BEN</td><td>Hard</td><td>4</td><td>D</td><td>20220304</td><td>1</td><td>138846</td><td>NA</td><td>NA</td><td>⋯</td><td>54</td><td>29</td><td> 8</td><td>11</td><td>6</td><td>10</td><td>1059</td><td>10</td><td>1881</td><td> 1</td></tr>\n",
       "\t<tr><td>2022-M-DC-2022-WG2-PO-HKG-BEN-01</td><td>Davis Cup WG2 PO: HKG vs BEN</td><td>Hard</td><td>4</td><td>D</td><td>20220304</td><td>2</td><td>209409</td><td>NA</td><td>NA</td><td>⋯</td><td>39</td><td>24</td><td> 7</td><td>10</td><td>5</td><td> 9</td><td>  NA</td><td>NA</td><td>  NA</td><td>NA</td></tr>\n",
       "\t<tr><td>2022-M-DC-2022-WG2-PO-HKG-BEN-01</td><td>Davis Cup WG2 PO: HKG vs BEN</td><td>Hard</td><td>4</td><td>D</td><td>20220304</td><td>4</td><td>208414</td><td>NA</td><td>NA</td><td>⋯</td><td>34</td><td>24</td><td>13</td><td>10</td><td>5</td><td> 8</td><td>  NA</td><td>NA</td><td>  NA</td><td>NA</td></tr>\n",
       "</tbody>\n",
       "</table>\n"
      ],
      "text/latex": [
       "A spec\\_tbl\\_df: 2917 × 49\n",
       "\\begin{tabular}{lllllllllllllllllllll}\n",
       " tourney\\_id & tourney\\_name & surface & draw\\_size & tourney\\_level & tourney\\_date & match\\_num & winner\\_id & winner\\_seed & winner\\_entry & ⋯ & l\\_1stIn & l\\_1stWon & l\\_2ndWon & l\\_SvGms & l\\_bpSaved & l\\_bpFaced & winner\\_rank & winner\\_rank\\_points & loser\\_rank & loser\\_rank\\_points\\\\\n",
       " <chr> & <chr> & <chr> & <dbl> & <chr> & <dbl> & <dbl> & <dbl> & <dbl> & <chr> & ⋯ & <dbl> & <dbl> & <dbl> & <dbl> & <dbl> & <dbl> & <dbl> & <dbl> & <dbl> & <dbl>\\\\\n",
       "\\hline\n",
       "\t 2022-8888 & Atp Cup & Hard & 16 & A & 20220103 & 300 & 200000 & NA & NA & ⋯ & 50 & 32 &  7 & 10 & 3 & 5 & 11 & 3308 & 19 & 2260\\\\\n",
       "\t 2022-8888 & Atp Cup & Hard & 16 & A & 20220103 & 299 & 133430 & NA & NA & ⋯ & 33 & 21 &  8 &  9 & 3 & 6 & 14 & 2475 & 20 & 2230\\\\\n",
       "\t 2022-8888 & Atp Cup & Hard & 16 & A & 20220103 & 298 & 105138 & NA & NA & ⋯ & 80 & 62 & 20 & 16 & 6 & 7 & 19 & 2260 &  9 & 3706\\\\\n",
       "\t ⋮ & ⋮ & ⋮ & ⋮ & ⋮ & ⋮ & ⋮ & ⋮ & ⋮ & ⋮ & ⋱ & ⋮ & ⋮ & ⋮ & ⋮ & ⋮ & ⋮ & ⋮ & ⋮ & ⋮ & ⋮\\\\\n",
       "\t 2022-M-DC-2022-WG2-PO-HKG-BEN-01 & Davis Cup WG2 PO: HKG vs BEN & Hard & 4 & D & 20220304 & 1 & 138846 & NA & NA & ⋯ & 54 & 29 &  8 & 11 & 6 & 10 & 1059 & 10 & 1881 &  1\\\\\n",
       "\t 2022-M-DC-2022-WG2-PO-HKG-BEN-01 & Davis Cup WG2 PO: HKG vs BEN & Hard & 4 & D & 20220304 & 2 & 209409 & NA & NA & ⋯ & 39 & 24 &  7 & 10 & 5 &  9 &   NA & NA &   NA & NA\\\\\n",
       "\t 2022-M-DC-2022-WG2-PO-HKG-BEN-01 & Davis Cup WG2 PO: HKG vs BEN & Hard & 4 & D & 20220304 & 4 & 208414 & NA & NA & ⋯ & 34 & 24 & 13 & 10 & 5 &  8 &   NA & NA &   NA & NA\\\\\n",
       "\\end{tabular}\n"
      ],
      "text/markdown": [
       "\n",
       "A spec_tbl_df: 2917 × 49\n",
       "\n",
       "| tourney_id &lt;chr&gt; | tourney_name &lt;chr&gt; | surface &lt;chr&gt; | draw_size &lt;dbl&gt; | tourney_level &lt;chr&gt; | tourney_date &lt;dbl&gt; | match_num &lt;dbl&gt; | winner_id &lt;dbl&gt; | winner_seed &lt;dbl&gt; | winner_entry &lt;chr&gt; | ⋯ ⋯ | l_1stIn &lt;dbl&gt; | l_1stWon &lt;dbl&gt; | l_2ndWon &lt;dbl&gt; | l_SvGms &lt;dbl&gt; | l_bpSaved &lt;dbl&gt; | l_bpFaced &lt;dbl&gt; | winner_rank &lt;dbl&gt; | winner_rank_points &lt;dbl&gt; | loser_rank &lt;dbl&gt; | loser_rank_points &lt;dbl&gt; |\n",
       "|---|---|---|---|---|---|---|---|---|---|---|---|---|---|---|---|---|---|---|---|---|\n",
       "| 2022-8888 | Atp Cup | Hard | 16 | A | 20220103 | 300 | 200000 | NA | NA | ⋯ | 50 | 32 |  7 | 10 | 3 | 5 | 11 | 3308 | 19 | 2260 |\n",
       "| 2022-8888 | Atp Cup | Hard | 16 | A | 20220103 | 299 | 133430 | NA | NA | ⋯ | 33 | 21 |  8 |  9 | 3 | 6 | 14 | 2475 | 20 | 2230 |\n",
       "| 2022-8888 | Atp Cup | Hard | 16 | A | 20220103 | 298 | 105138 | NA | NA | ⋯ | 80 | 62 | 20 | 16 | 6 | 7 | 19 | 2260 |  9 | 3706 |\n",
       "| ⋮ | ⋮ | ⋮ | ⋮ | ⋮ | ⋮ | ⋮ | ⋮ | ⋮ | ⋮ | ⋱ | ⋮ | ⋮ | ⋮ | ⋮ | ⋮ | ⋮ | ⋮ | ⋮ | ⋮ | ⋮ |\n",
       "| 2022-M-DC-2022-WG2-PO-HKG-BEN-01 | Davis Cup WG2 PO: HKG vs BEN | Hard | 4 | D | 20220304 | 1 | 138846 | NA | NA | ⋯ | 54 | 29 |  8 | 11 | 6 | 10 | 1059 | 10 | 1881 |  1 |\n",
       "| 2022-M-DC-2022-WG2-PO-HKG-BEN-01 | Davis Cup WG2 PO: HKG vs BEN | Hard | 4 | D | 20220304 | 2 | 209409 | NA | NA | ⋯ | 39 | 24 |  7 | 10 | 5 |  9 |   NA | NA |   NA | NA |\n",
       "| 2022-M-DC-2022-WG2-PO-HKG-BEN-01 | Davis Cup WG2 PO: HKG vs BEN | Hard | 4 | D | 20220304 | 4 | 208414 | NA | NA | ⋯ | 34 | 24 | 13 | 10 | 5 |  8 |   NA | NA |   NA | NA |\n",
       "\n"
      ],
      "text/plain": [
       "     tourney_id                       tourney_name                 surface\n",
       "1    2022-8888                        Atp Cup                      Hard   \n",
       "2    2022-8888                        Atp Cup                      Hard   \n",
       "3    2022-8888                        Atp Cup                      Hard   \n",
       "⋮    ⋮                                ⋮                            ⋮      \n",
       "2915 2022-M-DC-2022-WG2-PO-HKG-BEN-01 Davis Cup WG2 PO: HKG vs BEN Hard   \n",
       "2916 2022-M-DC-2022-WG2-PO-HKG-BEN-01 Davis Cup WG2 PO: HKG vs BEN Hard   \n",
       "2917 2022-M-DC-2022-WG2-PO-HKG-BEN-01 Davis Cup WG2 PO: HKG vs BEN Hard   \n",
       "     draw_size tourney_level tourney_date match_num winner_id winner_seed\n",
       "1    16        A             20220103     300       200000    NA         \n",
       "2    16        A             20220103     299       133430    NA         \n",
       "3    16        A             20220103     298       105138    NA         \n",
       "⋮    ⋮         ⋮             ⋮            ⋮         ⋮         ⋮          \n",
       "2915 4         D             20220304     1         138846    NA         \n",
       "2916 4         D             20220304     2         209409    NA         \n",
       "2917 4         D             20220304     4         208414    NA         \n",
       "     winner_entry ⋯ l_1stIn l_1stWon l_2ndWon l_SvGms l_bpSaved l_bpFaced\n",
       "1    NA           ⋯ 50      32        7       10      3         5        \n",
       "2    NA           ⋯ 33      21        8        9      3         6        \n",
       "3    NA           ⋯ 80      62       20       16      6         7        \n",
       "⋮    ⋮            ⋱ ⋮       ⋮        ⋮        ⋮       ⋮         ⋮        \n",
       "2915 NA           ⋯ 54      29        8       11      6         10       \n",
       "2916 NA           ⋯ 39      24        7       10      5          9       \n",
       "2917 NA           ⋯ 34      24       13       10      5          8       \n",
       "     winner_rank winner_rank_points loser_rank loser_rank_points\n",
       "1    11          3308               19         2260             \n",
       "2    14          2475               20         2230             \n",
       "3    19          2260                9         3706             \n",
       "⋮    ⋮           ⋮                  ⋮          ⋮                \n",
       "2915 1059        10                 1881        1               \n",
       "2916   NA        NA                   NA       NA               \n",
       "2917   NA        NA                   NA       NA               "
      ]
     },
     "metadata": {},
     "output_type": "display_data"
    }
   ],
   "source": [
    "url <- \"https://raw.githubusercontent.com/JeffSackmann/tennis_atp/master/atp_matches_2022.csv\"\n",
    "destfile <- \"data/atp_matches_2022.csv\"\n",
    "download.file(url, destfile)\n",
    "tennis_data <- read_csv(\"data/atp_matches_2022.csv\")\n",
    "tennis_data"
   ]
  },
  {
   "cell_type": "markdown",
   "id": "999d7886-43b3-448b-87e5-7e6c461f703b",
   "metadata": {},
   "source": [
    "##### Cleaning and Wrangling our Data into Tidy Format and a Bit More for our Purposes:"
   ]
  },
  {
   "cell_type": "code",
   "execution_count": 3,
   "id": "4765c1af-e53b-4e8f-a70f-0b7336db98aa",
   "metadata": {},
   "outputs": [
    {
     "data": {
      "text/html": [
       "<table class=\"dataframe\">\n",
       "<caption>A tibble: 1 × 2</caption>\n",
       "<thead>\n",
       "\t<tr><th scope=col>name</th><th scope=col>number_of_matches_played</th></tr>\n",
       "\t<tr><th scope=col>&lt;chr&gt;</th><th scope=col>&lt;int&gt;</th></tr>\n",
       "</thead>\n",
       "<tbody>\n",
       "\t<tr><td>Felix Auger Aliassime</td><td>87</td></tr>\n",
       "</tbody>\n",
       "</table>\n"
      ],
      "text/latex": [
       "A tibble: 1 × 2\n",
       "\\begin{tabular}{ll}\n",
       " name & number\\_of\\_matches\\_played\\\\\n",
       " <chr> & <int>\\\\\n",
       "\\hline\n",
       "\t Felix Auger Aliassime & 87\\\\\n",
       "\\end{tabular}\n"
      ],
      "text/markdown": [
       "\n",
       "A tibble: 1 × 2\n",
       "\n",
       "| name &lt;chr&gt; | number_of_matches_played &lt;int&gt; |\n",
       "|---|---|\n",
       "| Felix Auger Aliassime | 87 |\n",
       "\n"
      ],
      "text/plain": [
       "  name                  number_of_matches_played\n",
       "1 Felix Auger Aliassime 87                      "
      ]
     },
     "metadata": {},
     "output_type": "display_data"
    }
   ],
   "source": [
    "# We need to pick a person who plays the most matches in the year:\n",
    "player_with_most_played_matches_2022 <- tennis_data |>\n",
    "    select(winner_name, loser_name) |>\n",
    "    pivot_longer(winner_name:loser_name, names_to = \"Winner or Loser\", values_to = \"name\") |>\n",
    "    select(name) |>\n",
    "    group_by(name) |>\n",
    "    summarize(number_of_matches_played = n()) |>\n",
    "    arrange(-number_of_matches_played) |>\n",
    "    slice(1)\n",
    "\n",
    "player_with_most_played_matches_2022\n",
    "\n",
    "#Felix Auger Aliassime has the most matches played in 2022 with a record of 87. "
   ]
  },
  {
   "cell_type": "code",
   "execution_count": 4,
   "id": "8fd3e5db-9054-4c03-acd1-4b239cbbc925",
   "metadata": {},
   "outputs": [
    {
     "data": {
      "text/html": [
       "<table class=\"dataframe\">\n",
       "<caption>A tibble: 29 × 5</caption>\n",
       "<thead>\n",
       "\t<tr><th scope=col>name</th><th scope=col>opp_age</th><th scope=col>opp_seed</th><th scope=col>opp_ht</th><th scope=col>winner</th></tr>\n",
       "\t<tr><th scope=col>&lt;chr&gt;</th><th scope=col>&lt;dbl&gt;</th><th scope=col>&lt;dbl&gt;</th><th scope=col>&lt;dbl&gt;</th><th scope=col>&lt;chr&gt;</th></tr>\n",
       "</thead>\n",
       "<tbody>\n",
       "\t<tr><td>Felix Auger Aliassime</td><td>31.6</td><td>24</td><td>175</td><td>Yes</td></tr>\n",
       "\t<tr><td>Felix Auger Aliassime</td><td>33.3</td><td>27</td><td>198</td><td>Yes</td></tr>\n",
       "\t<tr><td>Felix Auger Aliassime</td><td>23.4</td><td> 1</td><td>193</td><td>Yes</td></tr>\n",
       "\t<tr><td>⋮</td><td>⋮</td><td>⋮</td><td>⋮</td><td>⋮</td></tr>\n",
       "\t<tr><td>Felix Auger Aliassime</td><td>23.6</td><td>4</td><td>183</td><td>No</td></tr>\n",
       "\t<tr><td>Felix Auger Aliassime</td><td>23.8</td><td>3</td><td>183</td><td>No</td></tr>\n",
       "\t<tr><td>Felix Auger Aliassime</td><td>25.0</td><td>8</td><td>193</td><td>No</td></tr>\n",
       "</tbody>\n",
       "</table>\n"
      ],
      "text/latex": [
       "A tibble: 29 × 5\n",
       "\\begin{tabular}{lllll}\n",
       " name & opp\\_age & opp\\_seed & opp\\_ht & winner\\\\\n",
       " <chr> & <dbl> & <dbl> & <dbl> & <chr>\\\\\n",
       "\\hline\n",
       "\t Felix Auger Aliassime & 31.6 & 24 & 175 & Yes\\\\\n",
       "\t Felix Auger Aliassime & 33.3 & 27 & 198 & Yes\\\\\n",
       "\t Felix Auger Aliassime & 23.4 &  1 & 193 & Yes\\\\\n",
       "\t ⋮ & ⋮ & ⋮ & ⋮ & ⋮\\\\\n",
       "\t Felix Auger Aliassime & 23.6 & 4 & 183 & No\\\\\n",
       "\t Felix Auger Aliassime & 23.8 & 3 & 183 & No\\\\\n",
       "\t Felix Auger Aliassime & 25.0 & 8 & 193 & No\\\\\n",
       "\\end{tabular}\n"
      ],
      "text/markdown": [
       "\n",
       "A tibble: 29 × 5\n",
       "\n",
       "| name &lt;chr&gt; | opp_age &lt;dbl&gt; | opp_seed &lt;dbl&gt; | opp_ht &lt;dbl&gt; | winner &lt;chr&gt; |\n",
       "|---|---|---|---|---|\n",
       "| Felix Auger Aliassime | 31.6 | 24 | 175 | Yes |\n",
       "| Felix Auger Aliassime | 33.3 | 27 | 198 | Yes |\n",
       "| Felix Auger Aliassime | 23.4 |  1 | 193 | Yes |\n",
       "| ⋮ | ⋮ | ⋮ | ⋮ | ⋮ |\n",
       "| Felix Auger Aliassime | 23.6 | 4 | 183 | No |\n",
       "| Felix Auger Aliassime | 23.8 | 3 | 183 | No |\n",
       "| Felix Auger Aliassime | 25.0 | 8 | 193 | No |\n",
       "\n"
      ],
      "text/plain": [
       "   name                  opp_age opp_seed opp_ht winner\n",
       "1  Felix Auger Aliassime 31.6    24       175    Yes   \n",
       "2  Felix Auger Aliassime 33.3    27       198    Yes   \n",
       "3  Felix Auger Aliassime 23.4     1       193    Yes   \n",
       "⋮  ⋮                     ⋮       ⋮        ⋮      ⋮     \n",
       "27 Felix Auger Aliassime 23.6    4        183    No    \n",
       "28 Felix Auger Aliassime 23.8    3        183    No    \n",
       "29 Felix Auger Aliassime 25.0    8        193    No    "
      ]
     },
     "metadata": {},
     "output_type": "display_data"
    },
    {
     "data": {
      "text/html": [
       "<table class=\"dataframe\">\n",
       "<caption>A tibble: 29 × 4</caption>\n",
       "<thead>\n",
       "\t<tr><th scope=col>opp_age</th><th scope=col>opp_ht</th><th scope=col>opp_seed</th><th scope=col>winner</th></tr>\n",
       "\t<tr><th scope=col>&lt;dbl&gt;</th><th scope=col>&lt;dbl&gt;</th><th scope=col>&lt;dbl&gt;</th><th scope=col>&lt;fct&gt;</th></tr>\n",
       "</thead>\n",
       "<tbody>\n",
       "\t<tr><td> 1.1244935</td><td>-1.8753088</td><td> 2.6935901</td><td>Yes</td></tr>\n",
       "\t<tr><td> 1.4840105</td><td> 1.4250368</td><td> 3.1613393</td><td>Yes</td></tr>\n",
       "\t<tr><td>-0.6096476</td><td> 0.7075703</td><td>-0.8924869</td><td>Yes</td></tr>\n",
       "\t<tr><td>⋮</td><td>⋮</td><td>⋮</td><td>⋮</td></tr>\n",
       "\t<tr><td>-0.5673514</td><td>-0.7273625</td><td>-0.4247378</td><td>No</td></tr>\n",
       "\t<tr><td>-0.5250553</td><td>-0.7273625</td><td>-0.5806542</td><td>No</td></tr>\n",
       "\t<tr><td>-0.2712786</td><td> 0.7075703</td><td> 0.1989278</td><td>No</td></tr>\n",
       "</tbody>\n",
       "</table>\n"
      ],
      "text/latex": [
       "A tibble: 29 × 4\n",
       "\\begin{tabular}{llll}\n",
       " opp\\_age & opp\\_ht & opp\\_seed & winner\\\\\n",
       " <dbl> & <dbl> & <dbl> & <fct>\\\\\n",
       "\\hline\n",
       "\t  1.1244935 & -1.8753088 &  2.6935901 & Yes\\\\\n",
       "\t  1.4840105 &  1.4250368 &  3.1613393 & Yes\\\\\n",
       "\t -0.6096476 &  0.7075703 & -0.8924869 & Yes\\\\\n",
       "\t ⋮ & ⋮ & ⋮ & ⋮\\\\\n",
       "\t -0.5673514 & -0.7273625 & -0.4247378 & No\\\\\n",
       "\t -0.5250553 & -0.7273625 & -0.5806542 & No\\\\\n",
       "\t -0.2712786 &  0.7075703 &  0.1989278 & No\\\\\n",
       "\\end{tabular}\n"
      ],
      "text/markdown": [
       "\n",
       "A tibble: 29 × 4\n",
       "\n",
       "| opp_age &lt;dbl&gt; | opp_ht &lt;dbl&gt; | opp_seed &lt;dbl&gt; | winner &lt;fct&gt; |\n",
       "|---|---|---|---|\n",
       "|  1.1244935 | -1.8753088 |  2.6935901 | Yes |\n",
       "|  1.4840105 |  1.4250368 |  3.1613393 | Yes |\n",
       "| -0.6096476 |  0.7075703 | -0.8924869 | Yes |\n",
       "| ⋮ | ⋮ | ⋮ | ⋮ |\n",
       "| -0.5673514 | -0.7273625 | -0.4247378 | No |\n",
       "| -0.5250553 | -0.7273625 | -0.5806542 | No |\n",
       "| -0.2712786 |  0.7075703 |  0.1989278 | No |\n",
       "\n"
      ],
      "text/plain": [
       "   opp_age    opp_ht     opp_seed   winner\n",
       "1   1.1244935 -1.8753088  2.6935901 Yes   \n",
       "2   1.4840105  1.4250368  3.1613393 Yes   \n",
       "3  -0.6096476  0.7075703 -0.8924869 Yes   \n",
       "⋮  ⋮          ⋮          ⋮          ⋮     \n",
       "27 -0.5673514 -0.7273625 -0.4247378 No    \n",
       "28 -0.5250553 -0.7273625 -0.5806542 No    \n",
       "29 -0.2712786  0.7075703  0.1989278 No    "
      ]
     },
     "metadata": {},
     "output_type": "display_data"
    }
   ],
   "source": [
    "#Tidy the data for this player, win or lose:\n",
    "win_pov_tennis_data <- tennis_data |>\n",
    "    filter(winner_name == \"Felix Auger Aliassime\") |>\n",
    "    select(winner_name, loser_age, loser_seed, loser_ht) |>\n",
    "    mutate(winner = \"Yes\") |>\n",
    "    rename(name = winner_name, opp_age = loser_age, opp_seed = loser_seed, opp_ht = loser_ht)\n",
    "\n",
    "loser_pov_tennis_data <- tennis_data |>\n",
    "    filter(loser_name == \"Felix Auger Aliassime\") |>\n",
    "    select(loser_name, winner_age, winner_seed, winner_ht) |>\n",
    "    mutate(winner = \"No\") |>\n",
    "    rename(name = loser_name, opp_age = winner_age, opp_seed = winner_seed, opp_ht = winner_ht)\n",
    "\n",
    "\n",
    "somewhat_tidy_tennis_data_2022 <- rbind(win_pov_tennis_data, loser_pov_tennis_data)\n",
    "\n",
    "tidy_tennis_data_2022 <- somewhat_tidy_tennis_data_2022 |>\n",
    "    filter(!is.na(opp_seed))\n",
    "\n",
    "tidy_tennis_data_2022\n",
    "\n",
    "tidy_tennis_data_2022_scaled <- recipe(winner ~ opp_age + opp_ht + opp_seed, data = tidy_tennis_data_2022) |>\n",
    "  step_scale(all_predictors()) |>\n",
    "  step_center(all_predictors()) |>\n",
    "  prep() |>\n",
    "  bake(tidy_tennis_data_2022)\n",
    "tidy_tennis_data_2022_scaled "
   ]
  },
  {
   "cell_type": "markdown",
   "id": "ff67587e-3102-4577-9b34-d41fb7eb442b",
   "metadata": {},
   "source": [
    "##### Visualizing Training Data:"
   ]
  },
  {
   "cell_type": "code",
   "execution_count": 5,
   "id": "5cf389c5-4f3a-4f10-8c4a-46066b4cf46e",
   "metadata": {
    "scrolled": true
   },
   "outputs": [
    {
     "ename": "ERROR",
     "evalue": "Error in ggplot(tidy_tennis_data_2022, aes(x = opp_age, y = opp_ht, color = winner)): could not find function \"ggplot\"\n",
     "output_type": "error",
     "traceback": [
      "Error in ggplot(tidy_tennis_data_2022, aes(x = opp_age, y = opp_ht, color = winner)): could not find function \"ggplot\"\nTraceback:\n"
     ]
    }
   ],
   "source": [
    "plot_2022 <- tidy_tennis_data_2022 |> \n",
    "    ggplot(aes(x = opp_age, y = opp_ht, color = winner)) +\n",
    "        geom_point() +\n",
    "        labs(x = \"Opponent Age (Yrs)\", y = \"Opponent Height (Yrs)\", color = \"Did Felix Win?\", title = \"Unscaled Opponent Height vs Age\") + \n",
    "        theme(text = element_text(size = 16))\n",
    "\n",
    "plot_2022\n",
    "\n",
    "plot_2022_scaled <- tidy_tennis_data_2022_scaled |> \n",
    "    ggplot(aes(x = opp_age, y = opp_ht, color = winner)) +\n",
    "        geom_point() +\n",
    "        labs(x = \"Scaled Opponent Age\", y = \"Scaled Opponent Height\", color = \"Did Felix Win?\", title = \"Scaled Opponent Height vs Age\") + \n",
    "        theme(text = element_text(size = 16))\n",
    "\n",
    "plot_2022_scaled"
   ]
  },
  {
   "cell_type": "markdown",
   "id": "6c72f94f-07e4-4c96-ba84-3694f1615d49",
   "metadata": {},
   "source": [
    "### Methods:"
   ]
  },
  {
   "cell_type": "markdown",
   "id": "a6f180bf-230b-49d7-bab7-f1bce406cc11",
   "metadata": {},
   "source": [
    "We will build our K- classification model and choose the value for K-neighbours using our training data by making a temporary workflow that includes a recipe with the winner as our classifier, age, height, and seed as predictors (data is scaled). We will be using the columns “winner_seed”, “winner_age”, “winner_name”, “winner_ht”, “loser_seed”, “loser_age”, “loser_name”, and “loser_ht” from the raw data set to make our prediction. \n",
    "\n",
    "To visualize our data, we use the predictions from the testing data to create a confusion matrix. "
   ]
  },
  {
   "cell_type": "markdown",
   "id": "566e49ea-ea07-4dde-830e-d2c3325a4d35",
   "metadata": {},
   "source": [
    "### Expected outcomes and significance:"
   ]
  },
  {
   "cell_type": "markdown",
   "id": "e94a0c8d-a848-4319-881b-ad627ca89ee6",
   "metadata": {},
   "source": [
    "From our analysis, we expect to classify whether we would expect Felix to win or lose a match given a new observation on the age, height, and seed of any other player. The findings from this algorithm could have an impact on the training method of the analyzed player (i.e. Felix) for optimization of that particular player’s performance against certain metrics. For example, if the target player was classified to win/lose against a young player with a shorter height, the target athlete may devise strategic training against this information. Generally, this analysis could be applied to other predictors (factors) that are significant for a tennis player to recognize patterns that increase the rate of winning matches. \n",
    "\n",
    "Thus, this could lead to further questions such as *is there an improvement in the athlete’s performance before and after initiating changes?*\n"
   ]
  }
 ],
 "metadata": {
  "kernelspec": {
   "display_name": "R",
   "language": "R",
   "name": "ir"
  },
  "language_info": {
   "codemirror_mode": "r",
   "file_extension": ".r",
   "mimetype": "text/x-r-source",
   "name": "R",
   "pygments_lexer": "r",
   "version": "4.3.1"
  }
 },
 "nbformat": 4,
 "nbformat_minor": 5
}
