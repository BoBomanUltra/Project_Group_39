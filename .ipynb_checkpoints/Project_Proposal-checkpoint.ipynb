{
 "cells": [
  {
   "cell_type": "code",
   "execution_count": 2,
   "id": "2d9aa1c8-b97b-4dce-8ce0-f636ab37c6c1",
   "metadata": {},
   "outputs": [
    {
     "name": "stderr",
     "output_type": "stream",
     "text": [
      "── \u001b[1mAttaching core tidyverse packages\u001b[22m ──────────────────────── tidyverse 2.0.0 ──\n",
      "\u001b[32m✔\u001b[39m \u001b[34mdplyr    \u001b[39m 1.1.3     \u001b[32m✔\u001b[39m \u001b[34mreadr    \u001b[39m 2.1.4\n",
      "\u001b[32m✔\u001b[39m \u001b[34mforcats  \u001b[39m 1.0.0     \u001b[32m✔\u001b[39m \u001b[34mstringr  \u001b[39m 1.5.0\n",
      "\u001b[32m✔\u001b[39m \u001b[34mggplot2  \u001b[39m 3.4.4     \u001b[32m✔\u001b[39m \u001b[34mtibble   \u001b[39m 3.2.1\n",
      "\u001b[32m✔\u001b[39m \u001b[34mlubridate\u001b[39m 1.9.3     \u001b[32m✔\u001b[39m \u001b[34mtidyr    \u001b[39m 1.3.0\n",
      "\u001b[32m✔\u001b[39m \u001b[34mpurrr    \u001b[39m 1.0.2     \n",
      "── \u001b[1mConflicts\u001b[22m ────────────────────────────────────────── tidyverse_conflicts() ──\n",
      "\u001b[31m✖\u001b[39m \u001b[34mdplyr\u001b[39m::\u001b[32mfilter()\u001b[39m masks \u001b[34mstats\u001b[39m::filter()\n",
      "\u001b[31m✖\u001b[39m \u001b[34mdplyr\u001b[39m::\u001b[32mlag()\u001b[39m    masks \u001b[34mstats\u001b[39m::lag()\n",
      "\u001b[36mℹ\u001b[39m Use the conflicted package (\u001b[3m\u001b[34m<http://conflicted.r-lib.org/>\u001b[39m\u001b[23m) to force all conflicts to become errors\n",
      "── \u001b[1mAttaching packages\u001b[22m ────────────────────────────────────── tidymodels 1.1.1 ──\n",
      "\n",
      "\u001b[32m✔\u001b[39m \u001b[34mbroom       \u001b[39m 1.0.5     \u001b[32m✔\u001b[39m \u001b[34mrsample     \u001b[39m 1.2.0\n",
      "\u001b[32m✔\u001b[39m \u001b[34mdials       \u001b[39m 1.2.0     \u001b[32m✔\u001b[39m \u001b[34mtune        \u001b[39m 1.1.2\n",
      "\u001b[32m✔\u001b[39m \u001b[34minfer       \u001b[39m 1.0.5     \u001b[32m✔\u001b[39m \u001b[34mworkflows   \u001b[39m 1.1.3\n",
      "\u001b[32m✔\u001b[39m \u001b[34mmodeldata   \u001b[39m 1.2.0     \u001b[32m✔\u001b[39m \u001b[34mworkflowsets\u001b[39m 1.0.1\n",
      "\u001b[32m✔\u001b[39m \u001b[34mparsnip     \u001b[39m 1.1.1     \u001b[32m✔\u001b[39m \u001b[34myardstick   \u001b[39m 1.2.0\n",
      "\u001b[32m✔\u001b[39m \u001b[34mrecipes     \u001b[39m 1.0.8     \n",
      "\n",
      "── \u001b[1mConflicts\u001b[22m ───────────────────────────────────────── tidymodels_conflicts() ──\n",
      "\u001b[31m✖\u001b[39m \u001b[34mscales\u001b[39m::\u001b[32mdiscard()\u001b[39m masks \u001b[34mpurrr\u001b[39m::discard()\n",
      "\u001b[31m✖\u001b[39m \u001b[34mdplyr\u001b[39m::\u001b[32mfilter()\u001b[39m   masks \u001b[34mstats\u001b[39m::filter()\n",
      "\u001b[31m✖\u001b[39m \u001b[34mrecipes\u001b[39m::\u001b[32mfixed()\u001b[39m  masks \u001b[34mstringr\u001b[39m::fixed()\n",
      "\u001b[31m✖\u001b[39m \u001b[34mdplyr\u001b[39m::\u001b[32mlag()\u001b[39m      masks \u001b[34mstats\u001b[39m::lag()\n",
      "\u001b[31m✖\u001b[39m \u001b[34myardstick\u001b[39m::\u001b[32mspec()\u001b[39m masks \u001b[34mreadr\u001b[39m::spec()\n",
      "\u001b[31m✖\u001b[39m \u001b[34mrecipes\u001b[39m::\u001b[32mstep()\u001b[39m   masks \u001b[34mstats\u001b[39m::step()\n",
      "\u001b[34m•\u001b[39m Search for functions across packages at \u001b[32mhttps://www.tidymodels.org/find/\u001b[39m\n",
      "\n"
     ]
    }
   ],
   "source": [
    "library(tidyverse)\n",
    "library(repr)\n",
    "library(tidymodels)\n",
    "options(repr.matrix.max.rows = 6) #limits output of dataframes to 6 rows"
   ]
  },
  {
   "cell_type": "markdown",
   "id": "781ab47a-8c65-4e51-b52e-1a2e87392bc3",
   "metadata": {},
   "source": [
    "Title"
   ]
  },
  {
   "cell_type": "markdown",
   "id": "aea065a0-89ad-4c1a-811b-f1cb6e9c154a",
   "metadata": {},
   "source": [
    "Introduction"
   ]
  },
  {
   "cell_type": "markdown",
   "id": "a9c5eeba-0bb2-4fdb-aaab-60ffd0e69112",
   "metadata": {},
   "source": [
    "Preliminary Data Analaysis"
   ]
  },
  {
   "cell_type": "markdown",
   "id": "1c65588a-7367-4713-be1b-7406789f0557",
   "metadata": {},
   "source": [
    "Taking Data from the Web:"
   ]
  },
  {
   "cell_type": "code",
   "execution_count": 8,
   "id": "1da812c6-b73f-4a51-a8fd-8faa24b54d44",
   "metadata": {},
   "outputs": [
    {
     "name": "stderr",
     "output_type": "stream",
     "text": [
      "\u001b[1mRows: \u001b[22m\u001b[34m2917\u001b[39m \u001b[1mColumns: \u001b[22m\u001b[34m49\u001b[39m\n",
      "\u001b[36m──\u001b[39m \u001b[1mColumn specification\u001b[22m \u001b[36m────────────────────────────────────────────────────────\u001b[39m\n",
      "\u001b[1mDelimiter:\u001b[22m \",\"\n",
      "\u001b[31mchr\u001b[39m (14): tourney_id, tourney_name, surface, tourney_level, winner_entry, wi...\n",
      "\u001b[32mdbl\u001b[39m (35): draw_size, tourney_date, match_num, winner_id, winner_seed, winner...\n",
      "\n",
      "\u001b[36mℹ\u001b[39m Use `spec()` to retrieve the full column specification for this data.\n",
      "\u001b[36mℹ\u001b[39m Specify the column types or set `show_col_types = FALSE` to quiet this message.\n"
     ]
    },
    {
     "data": {
      "text/html": [
       "<table class=\"dataframe\">\n",
       "<caption>A spec_tbl_df: 2917 × 49</caption>\n",
       "<thead>\n",
       "\t<tr><th scope=col>tourney_id</th><th scope=col>tourney_name</th><th scope=col>surface</th><th scope=col>draw_size</th><th scope=col>tourney_level</th><th scope=col>tourney_date</th><th scope=col>match_num</th><th scope=col>winner_id</th><th scope=col>winner_seed</th><th scope=col>winner_entry</th><th scope=col>⋯</th><th scope=col>l_1stIn</th><th scope=col>l_1stWon</th><th scope=col>l_2ndWon</th><th scope=col>l_SvGms</th><th scope=col>l_bpSaved</th><th scope=col>l_bpFaced</th><th scope=col>winner_rank</th><th scope=col>winner_rank_points</th><th scope=col>loser_rank</th><th scope=col>loser_rank_points</th></tr>\n",
       "\t<tr><th scope=col>&lt;chr&gt;</th><th scope=col>&lt;chr&gt;</th><th scope=col>&lt;chr&gt;</th><th scope=col>&lt;dbl&gt;</th><th scope=col>&lt;chr&gt;</th><th scope=col>&lt;dbl&gt;</th><th scope=col>&lt;dbl&gt;</th><th scope=col>&lt;dbl&gt;</th><th scope=col>&lt;dbl&gt;</th><th scope=col>&lt;chr&gt;</th><th scope=col>⋯</th><th scope=col>&lt;dbl&gt;</th><th scope=col>&lt;dbl&gt;</th><th scope=col>&lt;dbl&gt;</th><th scope=col>&lt;dbl&gt;</th><th scope=col>&lt;dbl&gt;</th><th scope=col>&lt;dbl&gt;</th><th scope=col>&lt;dbl&gt;</th><th scope=col>&lt;dbl&gt;</th><th scope=col>&lt;dbl&gt;</th><th scope=col>&lt;dbl&gt;</th></tr>\n",
       "</thead>\n",
       "<tbody>\n",
       "\t<tr><td>2022-8888</td><td>Atp Cup</td><td>Hard</td><td>16</td><td>A</td><td>20220103</td><td>300</td><td>200000</td><td>NA</td><td>NA</td><td>⋯</td><td>50</td><td>32</td><td> 7</td><td>10</td><td>3</td><td>5</td><td>11</td><td>3308</td><td>19</td><td>2260</td></tr>\n",
       "\t<tr><td>2022-8888</td><td>Atp Cup</td><td>Hard</td><td>16</td><td>A</td><td>20220103</td><td>299</td><td>133430</td><td>NA</td><td>NA</td><td>⋯</td><td>33</td><td>21</td><td> 8</td><td> 9</td><td>3</td><td>6</td><td>14</td><td>2475</td><td>20</td><td>2230</td></tr>\n",
       "\t<tr><td>2022-8888</td><td>Atp Cup</td><td>Hard</td><td>16</td><td>A</td><td>20220103</td><td>298</td><td>105138</td><td>NA</td><td>NA</td><td>⋯</td><td>80</td><td>62</td><td>20</td><td>16</td><td>6</td><td>7</td><td>19</td><td>2260</td><td> 9</td><td>3706</td></tr>\n",
       "\t<tr><td>⋮</td><td>⋮</td><td>⋮</td><td>⋮</td><td>⋮</td><td>⋮</td><td>⋮</td><td>⋮</td><td>⋮</td><td>⋮</td><td>⋱</td><td>⋮</td><td>⋮</td><td>⋮</td><td>⋮</td><td>⋮</td><td>⋮</td><td>⋮</td><td>⋮</td><td>⋮</td><td>⋮</td></tr>\n",
       "\t<tr><td>2022-M-DC-2022-WG2-PO-HKG-BEN-01</td><td>Davis Cup WG2 PO: HKG vs BEN</td><td>Hard</td><td>4</td><td>D</td><td>20220304</td><td>1</td><td>138846</td><td>NA</td><td>NA</td><td>⋯</td><td>54</td><td>29</td><td> 8</td><td>11</td><td>6</td><td>10</td><td>1059</td><td>10</td><td>1881</td><td> 1</td></tr>\n",
       "\t<tr><td>2022-M-DC-2022-WG2-PO-HKG-BEN-01</td><td>Davis Cup WG2 PO: HKG vs BEN</td><td>Hard</td><td>4</td><td>D</td><td>20220304</td><td>2</td><td>209409</td><td>NA</td><td>NA</td><td>⋯</td><td>39</td><td>24</td><td> 7</td><td>10</td><td>5</td><td> 9</td><td>  NA</td><td>NA</td><td>  NA</td><td>NA</td></tr>\n",
       "\t<tr><td>2022-M-DC-2022-WG2-PO-HKG-BEN-01</td><td>Davis Cup WG2 PO: HKG vs BEN</td><td>Hard</td><td>4</td><td>D</td><td>20220304</td><td>4</td><td>208414</td><td>NA</td><td>NA</td><td>⋯</td><td>34</td><td>24</td><td>13</td><td>10</td><td>5</td><td> 8</td><td>  NA</td><td>NA</td><td>  NA</td><td>NA</td></tr>\n",
       "</tbody>\n",
       "</table>\n"
      ],
      "text/latex": [
       "A spec\\_tbl\\_df: 2917 × 49\n",
       "\\begin{tabular}{lllllllllllllllllllll}\n",
       " tourney\\_id & tourney\\_name & surface & draw\\_size & tourney\\_level & tourney\\_date & match\\_num & winner\\_id & winner\\_seed & winner\\_entry & ⋯ & l\\_1stIn & l\\_1stWon & l\\_2ndWon & l\\_SvGms & l\\_bpSaved & l\\_bpFaced & winner\\_rank & winner\\_rank\\_points & loser\\_rank & loser\\_rank\\_points\\\\\n",
       " <chr> & <chr> & <chr> & <dbl> & <chr> & <dbl> & <dbl> & <dbl> & <dbl> & <chr> & ⋯ & <dbl> & <dbl> & <dbl> & <dbl> & <dbl> & <dbl> & <dbl> & <dbl> & <dbl> & <dbl>\\\\\n",
       "\\hline\n",
       "\t 2022-8888 & Atp Cup & Hard & 16 & A & 20220103 & 300 & 200000 & NA & NA & ⋯ & 50 & 32 &  7 & 10 & 3 & 5 & 11 & 3308 & 19 & 2260\\\\\n",
       "\t 2022-8888 & Atp Cup & Hard & 16 & A & 20220103 & 299 & 133430 & NA & NA & ⋯ & 33 & 21 &  8 &  9 & 3 & 6 & 14 & 2475 & 20 & 2230\\\\\n",
       "\t 2022-8888 & Atp Cup & Hard & 16 & A & 20220103 & 298 & 105138 & NA & NA & ⋯ & 80 & 62 & 20 & 16 & 6 & 7 & 19 & 2260 &  9 & 3706\\\\\n",
       "\t ⋮ & ⋮ & ⋮ & ⋮ & ⋮ & ⋮ & ⋮ & ⋮ & ⋮ & ⋮ & ⋱ & ⋮ & ⋮ & ⋮ & ⋮ & ⋮ & ⋮ & ⋮ & ⋮ & ⋮ & ⋮\\\\\n",
       "\t 2022-M-DC-2022-WG2-PO-HKG-BEN-01 & Davis Cup WG2 PO: HKG vs BEN & Hard & 4 & D & 20220304 & 1 & 138846 & NA & NA & ⋯ & 54 & 29 &  8 & 11 & 6 & 10 & 1059 & 10 & 1881 &  1\\\\\n",
       "\t 2022-M-DC-2022-WG2-PO-HKG-BEN-01 & Davis Cup WG2 PO: HKG vs BEN & Hard & 4 & D & 20220304 & 2 & 209409 & NA & NA & ⋯ & 39 & 24 &  7 & 10 & 5 &  9 &   NA & NA &   NA & NA\\\\\n",
       "\t 2022-M-DC-2022-WG2-PO-HKG-BEN-01 & Davis Cup WG2 PO: HKG vs BEN & Hard & 4 & D & 20220304 & 4 & 208414 & NA & NA & ⋯ & 34 & 24 & 13 & 10 & 5 &  8 &   NA & NA &   NA & NA\\\\\n",
       "\\end{tabular}\n"
      ],
      "text/markdown": [
       "\n",
       "A spec_tbl_df: 2917 × 49\n",
       "\n",
       "| tourney_id &lt;chr&gt; | tourney_name &lt;chr&gt; | surface &lt;chr&gt; | draw_size &lt;dbl&gt; | tourney_level &lt;chr&gt; | tourney_date &lt;dbl&gt; | match_num &lt;dbl&gt; | winner_id &lt;dbl&gt; | winner_seed &lt;dbl&gt; | winner_entry &lt;chr&gt; | ⋯ ⋯ | l_1stIn &lt;dbl&gt; | l_1stWon &lt;dbl&gt; | l_2ndWon &lt;dbl&gt; | l_SvGms &lt;dbl&gt; | l_bpSaved &lt;dbl&gt; | l_bpFaced &lt;dbl&gt; | winner_rank &lt;dbl&gt; | winner_rank_points &lt;dbl&gt; | loser_rank &lt;dbl&gt; | loser_rank_points &lt;dbl&gt; |\n",
       "|---|---|---|---|---|---|---|---|---|---|---|---|---|---|---|---|---|---|---|---|---|\n",
       "| 2022-8888 | Atp Cup | Hard | 16 | A | 20220103 | 300 | 200000 | NA | NA | ⋯ | 50 | 32 |  7 | 10 | 3 | 5 | 11 | 3308 | 19 | 2260 |\n",
       "| 2022-8888 | Atp Cup | Hard | 16 | A | 20220103 | 299 | 133430 | NA | NA | ⋯ | 33 | 21 |  8 |  9 | 3 | 6 | 14 | 2475 | 20 | 2230 |\n",
       "| 2022-8888 | Atp Cup | Hard | 16 | A | 20220103 | 298 | 105138 | NA | NA | ⋯ | 80 | 62 | 20 | 16 | 6 | 7 | 19 | 2260 |  9 | 3706 |\n",
       "| ⋮ | ⋮ | ⋮ | ⋮ | ⋮ | ⋮ | ⋮ | ⋮ | ⋮ | ⋮ | ⋱ | ⋮ | ⋮ | ⋮ | ⋮ | ⋮ | ⋮ | ⋮ | ⋮ | ⋮ | ⋮ |\n",
       "| 2022-M-DC-2022-WG2-PO-HKG-BEN-01 | Davis Cup WG2 PO: HKG vs BEN | Hard | 4 | D | 20220304 | 1 | 138846 | NA | NA | ⋯ | 54 | 29 |  8 | 11 | 6 | 10 | 1059 | 10 | 1881 |  1 |\n",
       "| 2022-M-DC-2022-WG2-PO-HKG-BEN-01 | Davis Cup WG2 PO: HKG vs BEN | Hard | 4 | D | 20220304 | 2 | 209409 | NA | NA | ⋯ | 39 | 24 |  7 | 10 | 5 |  9 |   NA | NA |   NA | NA |\n",
       "| 2022-M-DC-2022-WG2-PO-HKG-BEN-01 | Davis Cup WG2 PO: HKG vs BEN | Hard | 4 | D | 20220304 | 4 | 208414 | NA | NA | ⋯ | 34 | 24 | 13 | 10 | 5 |  8 |   NA | NA |   NA | NA |\n",
       "\n"
      ],
      "text/plain": [
       "     tourney_id                       tourney_name                 surface\n",
       "1    2022-8888                        Atp Cup                      Hard   \n",
       "2    2022-8888                        Atp Cup                      Hard   \n",
       "3    2022-8888                        Atp Cup                      Hard   \n",
       "⋮    ⋮                                ⋮                            ⋮      \n",
       "2915 2022-M-DC-2022-WG2-PO-HKG-BEN-01 Davis Cup WG2 PO: HKG vs BEN Hard   \n",
       "2916 2022-M-DC-2022-WG2-PO-HKG-BEN-01 Davis Cup WG2 PO: HKG vs BEN Hard   \n",
       "2917 2022-M-DC-2022-WG2-PO-HKG-BEN-01 Davis Cup WG2 PO: HKG vs BEN Hard   \n",
       "     draw_size tourney_level tourney_date match_num winner_id winner_seed\n",
       "1    16        A             20220103     300       200000    NA         \n",
       "2    16        A             20220103     299       133430    NA         \n",
       "3    16        A             20220103     298       105138    NA         \n",
       "⋮    ⋮         ⋮             ⋮            ⋮         ⋮         ⋮          \n",
       "2915 4         D             20220304     1         138846    NA         \n",
       "2916 4         D             20220304     2         209409    NA         \n",
       "2917 4         D             20220304     4         208414    NA         \n",
       "     winner_entry ⋯ l_1stIn l_1stWon l_2ndWon l_SvGms l_bpSaved l_bpFaced\n",
       "1    NA           ⋯ 50      32        7       10      3         5        \n",
       "2    NA           ⋯ 33      21        8        9      3         6        \n",
       "3    NA           ⋯ 80      62       20       16      6         7        \n",
       "⋮    ⋮            ⋱ ⋮       ⋮        ⋮        ⋮       ⋮         ⋮        \n",
       "2915 NA           ⋯ 54      29        8       11      6         10       \n",
       "2916 NA           ⋯ 39      24        7       10      5          9       \n",
       "2917 NA           ⋯ 34      24       13       10      5          8       \n",
       "     winner_rank winner_rank_points loser_rank loser_rank_points\n",
       "1    11          3308               19         2260             \n",
       "2    14          2475               20         2230             \n",
       "3    19          2260                9         3706             \n",
       "⋮    ⋮           ⋮                  ⋮          ⋮                \n",
       "2915 1059        10                 1881        1               \n",
       "2916   NA        NA                   NA       NA               \n",
       "2917   NA        NA                   NA       NA               "
      ]
     },
     "metadata": {},
     "output_type": "display_data"
    }
   ],
   "source": [
    "url <- \"https://raw.githubusercontent.com/JeffSackmann/tennis_atp/master/atp_matches_2022.csv\"\n",
    "destfile <- \"data/atp_matches_2022.csv\"\n",
    "download.file(url, destfile)\n",
    "tennis_data <- read_csv(\"data/atp_matches_2022.csv\")\n",
    "tennis_data"
   ]
  },
  {
   "cell_type": "markdown",
   "id": "999d7886-43b3-448b-87e5-7e6c461f703b",
   "metadata": {},
   "source": [
    "Cleaning and Wrangling our Data into Tidy Format and a Bit More for our Purposes:"
   ]
  }
 ],
 "metadata": {
  "kernelspec": {
   "display_name": "R",
   "language": "R",
   "name": "ir"
  },
  "language_info": {
   "codemirror_mode": "r",
   "file_extension": ".r",
   "mimetype": "text/x-r-source",
   "name": "R",
   "pygments_lexer": "r",
   "version": "4.3.1"
  }
 },
 "nbformat": 4,
 "nbformat_minor": 5
}
